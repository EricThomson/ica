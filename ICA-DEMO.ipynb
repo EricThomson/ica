{
 "cells": [
  {
   "cell_type": "code",
   "execution_count": 1,
   "metadata": {
    "collapsed": false
   },
   "outputs": [],
   "source": [
    "%matplotlib inline\n",
    "# Import ica function\n",
    "from ica import ica1\n",
    "import numpy as np\n",
    "import matplotlib.pyplot as plt\n",
    "\n",
    "# Define matrix dimensions\n",
    "Nobs = 100 # Number of observations\n",
    "Nvars = 10000 # Number of variables\n",
    "Ncomp = 2 # Number of components"
   ]
  },
  {
   "cell_type": "code",
   "execution_count": 2,
   "metadata": {
    "collapsed": false
   },
   "outputs": [],
   "source": [
    "# Simulated true sources\n",
    "S_true = np.random.logistic(0,1,(Ncomp,Nvars)) ** 3\n",
    "# Simulated true mixing\n",
    "A_true = np.random.normal(0,1,(Nobs,Ncomp))\n",
    "# X = AS\n",
    "X = np.dot(A_true,S_true)\n",
    "# add some noise\n",
    "X = X + np.random.normal(0,5,X.shape)"
   ]
  },
  {
   "cell_type": "code",
   "execution_count": 3,
   "metadata": {
    "collapsed": false
   },
   "outputs": [
    {
     "data": {
      "text/plain": [
       "<matplotlib.text.Text at 0x7f714c0b6d10>"
      ]
     },
     "execution_count": 3,
     "metadata": {},
     "output_type": "execute_result"
    },
    {
     "data": {
      "image/png": "[encoded data removed]",
      "text/plain": [
       "<matplotlib.figure.Figure at 0x7f714c1a9a10>"
      ]
     },
     "metadata": {},
     "output_type": "display_data"
    }
   ],
   "source": [
    "plt.subplot(1,2,1)\n",
    "plt.plot(X[0,:], X[1,:], '.'),\n",
    "plt.title('mixed sources')\n",
    "\n",
    "plt.subplot(1,2,2)\n",
    "plt.plot(S_true[0,:], S_true[1,:], '.'),\n",
    "plt.title('real sources')\n"
   ]
  },
  {
   "cell_type": "code",
   "execution_count": 4,
   "metadata": {
    "collapsed": false
   },
   "outputs": [
    {
     "name": "stdout",
     "output_type": "stream",
     "text": [
      "Whitening data...\n",
      "Done.\n",
      "Running INFOMAX-ICA ...\n",
      "Beginning ICA training...\n",
      "Step 1: Lrate 7.2e-03,Wchange 2.3e+01,Angle 0.00\n",
      "Step 2: Lrate 7.2e-03,Wchange 5.9e+00,Angle 0.00\n",
      "Step 3: Lrate 6.5e-03,Wchange 5.3e+01,Angle 129.99\n",
      "Step 4: Lrate 5.8e-03,Wchange 2.5e+01,Angle 112.36\n",
      "Step 5: Lrate 5.8e-03,Wchange 4.8e+00,Angle 37.18\n",
      "Step 6: Lrate 5.3e-03,Wchange 1.4e+01,Angle 120.33\n",
      "Step 7: Lrate 4.7e-03,Wchange 1.9e+00,Angle 90.45\n",
      "Step 8: Lrate 4.3e-03,Wchange 3.4e-01,Angle 124.50\n",
      "Step 9: Lrate 3.8e-03,Wchange 2.8e+00,Angle 104.85\n",
      "Step 10: Lrate 3.5e-03,Wchange 7.0e+00,Angle 142.98\n",
      "Step 11: Lrate 3.1e-03,Wchange 1.8e+00,Angle 155.31\n",
      "Step 12: Lrate 2.8e-03,Wchange 7.1e-01,Angle 147.07\n",
      "Step 13: Lrate 2.5e-03,Wchange 2.2e-01,Angle 99.64\n",
      "Step 14: Lrate 2.3e-03,Wchange 8.6e-01,Angle 154.84\n",
      "Step 15: Lrate 2.3e-03,Wchange 5.8e-01,Angle 55.28\n",
      "Step 16: Lrate 2.0e-03,Wchange 4.4e-01,Angle 159.42\n",
      "Step 17: Lrate 2.0e-03,Wchange 2.1e-01,Angle 34.48\n",
      "Step 18: Lrate 1.8e-03,Wchange 1.1e-01,Angle 127.08\n",
      "Step 19: Lrate 1.7e-03,Wchange 3.1e-01,Angle 90.93\n",
      "Step 20: Lrate 1.5e-03,Wchange 2.0e-01,Angle 98.39\n",
      "Step 21: Lrate 1.3e-03,Wchange 8.7e-02,Angle 88.41\n",
      "Step 22: Lrate 1.2e-03,Wchange 8.5e-02,Angle 145.33\n",
      "Step 23: Lrate 1.1e-03,Wchange 1.8e-01,Angle 162.11\n",
      "Step 24: Lrate 9.7e-04,Wchange 3.2e-02,Angle 145.71\n",
      "Step 25: Lrate 9.7e-04,Wchange 4.1e-02,Angle 31.78\n",
      "Step 26: Lrate 8.8e-04,Wchange 2.2e-01,Angle 70.46\n",
      "Step 27: Lrate 7.9e-04,Wchange 1.2e-01,Angle 119.29\n",
      "Step 28: Lrate 7.1e-04,Wchange 2.7e-01,Angle 102.41\n",
      "Step 29: Lrate 7.1e-04,Wchange 3.1e-02,Angle 57.05\n",
      "Step 30: Lrate 6.4e-04,Wchange 1.0e-01,Angle 150.30\n",
      "Step 31: Lrate 5.8e-04,Wchange 1.1e-01,Angle 150.41\n",
      "Step 32: Lrate 5.2e-04,Wchange 1.1e-01,Angle 158.50\n",
      "Step 33: Lrate 4.7e-04,Wchange 4.6e-02,Angle 74.10\n",
      "Step 34: Lrate 4.2e-04,Wchange 1.5e-02,Angle 109.81\n",
      "Step 35: Lrate 3.8e-04,Wchange 1.8e-02,Angle 104.96\n",
      "Step 36: Lrate 3.4e-04,Wchange 3.2e-02,Angle 62.90\n",
      "Step 37: Lrate 3.1e-04,Wchange 9.1e-03,Angle 155.82\n",
      "Step 38: Lrate 3.1e-04,Wchange 9.5e-02,Angle 41.34\n",
      "Step 39: Lrate 3.1e-04,Wchange 3.5e-02,Angle 47.83\n",
      "Step 40: Lrate 2.8e-04,Wchange 5.0e-02,Angle 141.38\n",
      "Step 41: Lrate 2.5e-04,Wchange 3.6e-03,Angle 141.63\n",
      "Step 42: Lrate 2.2e-04,Wchange 1.4e-02,Angle 155.50\n",
      "Step 43: Lrate 2.0e-04,Wchange 4.1e-02,Angle 148.75\n",
      "Step 44: Lrate 2.0e-04,Wchange 1.0e-02,Angle 46.77\n",
      "Step 45: Lrate 1.8e-04,Wchange 1.2e-02,Angle 161.92\n",
      "Step 46: Lrate 1.6e-04,Wchange 6.4e-03,Angle 72.75\n",
      "Step 47: Lrate 1.5e-04,Wchange 6.7e-03,Angle 72.19\n",
      "Step 48: Lrate 1.3e-04,Wchange 2.2e-03,Angle 95.11\n",
      "Step 49: Lrate 1.3e-04,Wchange 1.0e-02,Angle 52.13\n",
      "Step 50: Lrate 1.2e-04,Wchange 9.2e-03,Angle 103.80\n",
      "Step 51: Lrate 1.2e-04,Wchange 1.1e-03,Angle 30.95\n",
      "Step 52: Lrate 1.1e-04,Wchange 4.2e-03,Angle 139.20\n",
      "Step 53: Lrate 9.6e-05,Wchange 5.1e-03,Angle 96.84\n",
      "Step 54: Lrate 8.6e-05,Wchange 2.8e-03,Angle 134.99\n",
      "Step 55: Lrate 7.8e-05,Wchange 2.2e-03,Angle 87.57\n",
      "Step 56: Lrate 7.0e-05,Wchange 1.4e-03,Angle 133.16\n",
      "Step 57: Lrate 6.3e-05,Wchange 8.9e-04,Angle 90.03\n",
      "Step 58: Lrate 5.7e-05,Wchange 6.5e-04,Angle 140.33\n",
      "Step 59: Lrate 5.1e-05,Wchange 7.1e-04,Angle 83.49\n",
      "Step 60: Lrate 4.6e-05,Wchange 3.2e-04,Angle 114.85\n",
      "Step 61: Lrate 4.1e-05,Wchange 1.0e-03,Angle 109.83\n",
      "Step 62: Lrate 3.7e-05,Wchange 6.7e-05,Angle 119.01\n",
      "Step 63: Lrate 3.3e-05,Wchange 1.8e-04,Angle 91.01\n",
      "Step 64: Lrate 3.0e-05,Wchange 2.6e-05,Angle 113.52\n",
      "Step 65: Lrate 2.7e-05,Wchange 1.0e-05,Angle 126.78\n",
      "Step 66: Lrate 2.4e-05,Wchange 4.9e-05,Angle 108.05\n",
      "Step 67: Lrate 2.2e-05,Wchange 3.4e-05,Angle 138.16\n",
      "Step 68: Lrate 2.0e-05,Wchange 1.8e-05,Angle 113.91\n",
      "Step 69: Lrate 1.8e-05,Wchange 1.4e-05,Angle 96.40\n",
      "Step 70: Lrate 1.8e-05,Wchange 7.1e-06,Angle 56.22\n",
      "Step 71: Lrate 1.6e-05,Wchange 4.9e-06,Angle 68.21\n",
      "Step 72: Lrate 1.4e-05,Wchange 3.2e-06,Angle 126.55\n",
      "Step 73: Lrate 1.3e-05,Wchange 6.5e-06,Angle 115.40\n",
      "Step 74: Lrate 1.2e-05,Wchange 6.3e-06,Angle 156.60\n",
      "Step 75: Lrate 1.2e-05,Wchange 5.5e-06,Angle 51.65\n",
      "Step 76: Lrate 1.0e-05,Wchange 1.5e-06,Angle 108.18\n",
      "Step 77: Lrate 1.0e-05,Wchange 2.3e-06,Angle 44.37\n",
      "Step 78: Lrate 9.4e-06,Wchange 1.4e-06,Angle 72.06\n",
      "Step 79: Lrate 8.5e-06,Wchange 6.2e-07,Angle 64.79\n",
      "Done.\n"
     ]
    }
   ],
   "source": [
       "# apply ICA on X and ask for 2 components\n",
       "model = ica1.ica(2)",
    "A,S = model.fit(X)\n"
   ]
  },
  {
   "cell_type": "code",
   "execution_count": 5,
   "metadata": {
    "collapsed": false
   },
   "outputs": [
    {
     "data": {
      "text/plain": [
       "<matplotlib.text.Text at 0x7f714c05a5d0>"
      ]
     },
     "execution_count": 5,
     "metadata": {},
     "output_type": "execute_result"
    },
    {
     "data": {
      "image/png": "[encoded data removed]",
      "text/plain": [
       "<matplotlib.figure.Figure at 0x7f7134b078d0>"
      ]
     },
     "metadata": {},
     "output_type": "display_data"
    }
   ],
   "source": [
    "\n",
    "plt.plot(S[0,:], S[1,:], '.'),\n",
    "plt.title('Estimated sources')"
   ]
  },
  {
   "cell_type": "code",
   "execution_count": null,
   "metadata": {
    "collapsed": true
   },
   "outputs": [],
   "source": []
  }
 ],
 "metadata": {
  "kernelspec": {
   "display_name": "Python 2",
   "language": "python",
   "name": "python2"
  },
  "language_info": {
   "codemirror_mode": {
    "name": "ipython",
    "version": 2
   },
   "file_extension": ".py",
   "mimetype": "text/x-python",
   "name": "python",
   "nbconvert_exporter": "python",
   "pygments_lexer": "ipython2",
   "version": "2.7.6"
  }
 },
 "nbformat": 4,
 "nbformat_minor": 0
}
