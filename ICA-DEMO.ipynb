{
 "metadata": {
  "name": ""
 },
 "nbformat": 3,
 "nbformat_minor": 0,
 "worksheets": [
  {
   "cells": [
    {
     "cell_type": "code",
     "collapsed": false,
     "input": [
      "%matplotlib inline\n",
      "# Import ica function\n",
      "from ica import ica1\n",
      "import numpy as np\n",
      "import matplotlib.pyplot as plt\n",
      "\n",
      "# Define matrix dimensions\n",
      "Nobs = 100 # Number of observations\n",
      "Nvars = 10000 # Number of variables\n",
      "Ncomp = 2 # Number of components"
     ],
     "language": "python",
     "metadata": {},
     "outputs": [],
     "prompt_number": 3
    },
    {
     "cell_type": "code",
     "collapsed": false,
     "input": [
      "# Simulated true sources\n",
      "S_true = np.random.logistic(0,1,(Ncomp,Nvars)) ** 3\n",
      "# Simulated true mixing\n",
      "A_true = np.random.normal(0,1,(Nobs,Ncomp))\n",
      "# X = AS\n",
      "X = np.dot(A_true,S_true)\n",
      "# add some noise\n",
      "X = X + np.random.normal(0,5,X.shape)"
     ],
     "language": "python",
     "metadata": {},
     "outputs": [],
     "prompt_number": 14
    },
    {
     "cell_type": "code",
     "collapsed": false,
     "input": [
      "plt.subplot(1,2,1)\n",
      "plt.plot(X[0,:], X[1,:], '.'),\n",
      "plt.title('mixed sources')\n",
      "\n",
      "plt.subplot(1,2,2)\n",
      "plt.plot(S_true[0,:], S_true[1,:], '.'),\n",
      "plt.title('real sources')\n"
     ],
     "language": "python",
     "metadata": {},
     "outputs": [
      {
       "metadata": {},
       "output_type": "pyout",
       "prompt_number": 19,
       "text": [
        "<matplotlib.text.Text at 0x7f63c1498e50>"
       ]
      },
      {
       "metadata": {},
       "output_type": "display_data",
       "png": "[encoded data removed]",
       "text": [
        "<matplotlib.figure.Figure at 0x7f63c14fbd10>"
       ]
      }
     ],
     "prompt_number": 19
    },
    {
     "cell_type": "code",
     "collapsed": false,
     "input": [
      "# apply ICA on X and ask for 2 components\n",
      "A,S = ica1(X,2)\n"
     ],
     "language": "python",
     "metadata": {},
     "outputs": [
      {
       "output_type": "stream",
       "stream": "stdout",
       "text": [
        "Whitening data...\n",
        "Done."
       ]
      },
      {
       "output_type": "stream",
       "stream": "stdout",
       "text": [
        "\n",
        "Running INFOMAX-ICA ...\n",
        "Beginning ICA training...\n",
        "Step 10: Lrate 3.1e-03,Wchange 4.2e+04,Angle 155.79"
       ]
      },
      {
       "output_type": "stream",
       "stream": "stdout",
       "text": [
        "\n",
        "Step 20: Lrate 1.2e-03,Wchange 6.8e+02,Angle 78.55"
       ]
      },
      {
       "output_type": "stream",
       "stream": "stdout",
       "text": [
        "\n",
        "Step 30: Lrate 4.7e-04,Wchange 3.1e+03,Angle 139.02"
       ]
      },
      {
       "output_type": "stream",
       "stream": "stdout",
       "text": [
        "\n",
        "Step 40: Lrate 1.8e-04,Wchange 4.3e+02,Angle 158.97"
       ]
      },
      {
       "output_type": "stream",
       "stream": "stdout",
       "text": [
        "\n",
        "Step 50: Lrate 6.3e-05,Wchange 6.9e+00,Angle 155.48"
       ]
      },
      {
       "output_type": "stream",
       "stream": "stdout",
       "text": [
        "\n",
        "Step 60: Lrate 2.7e-05,Wchange 5.5e-01,Angle 123.36"
       ]
      },
      {
       "output_type": "stream",
       "stream": "stdout",
       "text": [
        "\n",
        "Step 70: Lrate 9.4e-06,Wchange 3.0e-02,Angle 68.98"
       ]
      },
      {
       "output_type": "stream",
       "stream": "stdout",
       "text": [
        "\n",
        "Step 80: Lrate 5.6e-06,Wchange 2.8e-03,Angle 29.40"
       ]
      },
      {
       "output_type": "stream",
       "stream": "stdout",
       "text": [
        "\n",
        "Step 90: Lrate 3.3e-06,Wchange 3.7e-04,Angle 111.06"
       ]
      },
      {
       "output_type": "stream",
       "stream": "stdout",
       "text": [
        "\n",
        "Step 100: Lrate 1.8e-06,Wchange 1.2e-05,Angle 94.73"
       ]
      },
      {
       "output_type": "stream",
       "stream": "stdout",
       "text": [
        "\n",
        "Step 110: Lrate 9.3e-07,Wchange 1.5e-05,Angle 168.87"
       ]
      },
      {
       "output_type": "stream",
       "stream": "stdout",
       "text": [
        "\n",
        "Step 117: Lrate 5.5e-07,Wchange 7.5e-07,Angle 63.81"
       ]
      },
      {
       "output_type": "stream",
       "stream": "stdout",
       "text": [
        "\n",
        "Done.\n"
       ]
      }
     ],
     "prompt_number": 21
    },
    {
     "cell_type": "code",
     "collapsed": false,
     "input": [
      "\n",
      "plt.plot(S[0,:], S[1,:], '.'),\n",
      "plt.title('Estimated sources')"
     ],
     "language": "python",
     "metadata": {},
     "outputs": [
      {
       "metadata": {},
       "output_type": "pyout",
       "prompt_number": 22,
       "text": [
        "<matplotlib.text.Text at 0x7f63c13dabd0>"
       ]
      },
      {
       "metadata": {},
       "output_type": "display_data",
       "png": "[encoded data removed]",
       "text": [
        "<matplotlib.figure.Figure at 0x7f63c36ac350>"
       ]
      }
     ],
     "prompt_number": 22
    }
   ],
   "metadata": {}
  }
 ]
}