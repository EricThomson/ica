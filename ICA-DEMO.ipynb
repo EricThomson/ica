{
 "cells": [
  {
   "cell_type": "code",
   "execution_count": 2,
   "metadata": {
    "collapsed": false
   },
   "outputs": [],
   "source": [
    "%matplotlib inline\n",
    "# Import ica function\n",
    "from ica import ica1\n",
    "import numpy as np\n",
    "import matplotlib.pyplot as plt\n",
    "\n",
    "# Define matrix dimensions\n",
    "Nobs = 100 # Number of observations\n",
    "Nvars = 10000 # Number of variables\n",
    "Ncomp = 2 # Number of components"
   ]
  },
  {
   "cell_type": "code",
   "execution_count": 3,
   "metadata": {
    "collapsed": false
   },
   "outputs": [],
   "source": [
    "# Simulated true sources\n",
    "S_true = np.random.logistic(0,1,(Ncomp,Nvars)) ** 3\n",
    "# Simulated true mixing\n",
    "A_true = np.random.normal(0,1,(Nobs,Ncomp))\n",
    "# X = AS\n",
    "X = np.dot(A_true,S_true)\n",
    "# add some noise\n",
    "X = X + np.random.normal(0,5,X.shape)"
   ]
  },
  {
   "cell_type": "code",
   "execution_count": 4,
   "metadata": {
    "collapsed": false
   },
   "outputs": [
    {
     "data": {
      "text/plain": [
       "<matplotlib.text.Text at 0x7eff0cd40be0>"
      ]
     },
     "execution_count": 4,
     "metadata": {},
     "output_type": "execute_result"
    },
    {
     "data": {
      "image/png": "[encoded data removed]",
      "text/plain": [
       "<matplotlib.figure.Figure at 0x7eff0dfc35f8>"
      ]
     },
     "metadata": {},
     "output_type": "display_data"
    }
   ],
   "source": [
    "plt.subplot(1,2,1)\n",
    "plt.plot(X[0,:], X[1,:], '.'),\n",
    "plt.title('mixed sources')\n",
    "\n",
    "plt.subplot(1,2,2)\n",
    "plt.plot(S_true[0,:], S_true[1,:], '.'),\n",
    "plt.title('real sources')\n"
   ]
  },
  {
   "cell_type": "code",
   "execution_count": 6,
   "metadata": {
    "collapsed": false
   },
   "outputs": [
    {
     "name": "stdout",
     "output_type": "stream",
     "text": [
      "Step 75: Lrate 7.7e-06,Wchange 4.3e-07,Angle 106.62\n"
     ]
    }
   ],
   "source": [
    "# apply ICA on X and ask for 2 components\n",
    "A,S,W = ica1(X,2)"
   ]
  },
  {
   "cell_type": "code",
   "execution_count": 7,
   "metadata": {
    "collapsed": false
   },
   "outputs": [
    {
     "data": {
      "text/plain": [
       "<matplotlib.text.Text at 0x7eff0cc3fa90>"
      ]
     },
     "execution_count": 7,
     "metadata": {},
     "output_type": "execute_result"
    },
    {
     "data": {
      "image/png": "[encoded data removed]",
      "text/plain": [
       "<matplotlib.figure.Figure at 0x7eff0cc2be80>"
      ]
     },
     "metadata": {},
     "output_type": "display_data"
    }
   ],
   "source": [
    "plt.plot(S[0,:], S[1,:], '.'),\n",
    "plt.title('Estimated sources')"
   ]
  },
  {
   "cell_type": "code",
   "execution_count": null,
   "metadata": {
    "collapsed": true
   },
   "outputs": [],
   "source": []
  }
 ],
 "metadata": {
  "kernelspec": {
   "display_name": "Python 3",
   "language": "python",
   "name": "python3"
  },
  "language_info": {
   "codemirror_mode": {
    "name": "ipython",
    "version": 3
   },
   "file_extension": ".py",
   "mimetype": "text/x-python",
   "name": "python",
   "nbconvert_exporter": "python",
   "pygments_lexer": "ipython3",
   "version": "3.4.2"
  }
 },
 "nbformat": 4,
 "nbformat_minor": 0
}
